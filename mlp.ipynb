{
 "cells": [
  {
   "cell_type": "code",
   "execution_count": 1,
   "metadata": {},
   "outputs": [
    {
     "name": "stderr",
     "output_type": "stream",
     "text": [
      "C:\\Users\\Gurudeo\\Anaconda2\\lib\\site-packages\\h5py\\__init__.py:36: FutureWarning: Conversion of the second argument of issubdtype from `float` to `np.floating` is deprecated. In future, it will be treated as `np.float64 == np.dtype(float).type`.\n",
      "  from ._conv import register_converters as _register_converters\n",
      "Using TensorFlow backend.\n"
     ]
    }
   ],
   "source": [
    "import os\n",
    "import numpy as np\n",
    "import pandas as pd\n",
    "from scipy.misc import imread\n",
    "from sklearn.metrics import accuracy_score\n",
    "\n",
    "import tensorflow as tf\n",
    "import keras"
   ]
  },
  {
   "cell_type": "code",
   "execution_count": 2,
   "metadata": {},
   "outputs": [],
   "source": [
    "from keras.models import Sequential"
   ]
  },
  {
   "cell_type": "code",
   "execution_count": 3,
   "metadata": {},
   "outputs": [],
   "source": [
    "from keras.layers import Dense, Flatten, InputLayer,Dropout"
   ]
  },
  {
   "cell_type": "code",
   "execution_count": 4,
   "metadata": {},
   "outputs": [],
   "source": [
    "import matplotlib.pyplot as plt"
   ]
  },
  {
   "cell_type": "code",
   "execution_count": 5,
   "metadata": {},
   "outputs": [],
   "source": [
    "root_dir=os.path.abspath('C:/Users/Gurudeo/Desktop/Personal/Digits/')"
   ]
  },
  {
   "cell_type": "code",
   "execution_count": 6,
   "metadata": {},
   "outputs": [],
   "source": [
    "data_dir = os.path.join(root_dir, 'data')\n"
   ]
  },
  {
   "cell_type": "code",
   "execution_count": 7,
   "metadata": {},
   "outputs": [
    {
     "data": {
      "text/plain": [
       "True"
      ]
     },
     "execution_count": 7,
     "metadata": {},
     "output_type": "execute_result"
    }
   ],
   "source": [
    "os.path.exists(root_dir)\n"
   ]
  },
  {
   "cell_type": "code",
   "execution_count": 8,
   "metadata": {},
   "outputs": [
    {
     "data": {
      "text/plain": [
       "True"
      ]
     },
     "execution_count": 8,
     "metadata": {},
     "output_type": "execute_result"
    }
   ],
   "source": [
    "os.path.exists(data_dir)\n"
   ]
  },
  {
   "cell_type": "code",
   "execution_count": 9,
   "metadata": {},
   "outputs": [],
   "source": [
    "data=pd.read_csv(os.path.join(data_dir, 'Data', 'data.csv'))"
   ]
  },
  {
   "cell_type": "code",
   "execution_count": 10,
   "metadata": {},
   "outputs": [],
   "source": [
    "msk = np.random.rand(len(data)) < 0.8"
   ]
  },
  {
   "cell_type": "code",
   "execution_count": 11,
   "metadata": {},
   "outputs": [],
   "source": [
    "train = data[msk]\n",
    "test = data[~msk]"
   ]
  },
  {
   "cell_type": "code",
   "execution_count": 12,
   "metadata": {},
   "outputs": [
    {
     "name": "stderr",
     "output_type": "stream",
     "text": [
      "C:\\Users\\Gurudeo\\Anaconda2\\lib\\site-packages\\ipykernel_launcher.py:4: DeprecationWarning: `imread` is deprecated!\n",
      "`imread` is deprecated in SciPy 1.0.0, and will be removed in 1.2.0.\n",
      "Use ``imageio.imread`` instead.\n",
      "  after removing the cwd from sys.path.\n"
     ]
    }
   ],
   "source": [
    "train_temp = []\n",
    "for img_name in train.filename:\n",
    "    image_path = os.path.join(data_dir, 'Data', 'Images', 'data', img_name)\n",
    "    img = imread(image_path, flatten=True)\n",
    "    img = img.astype('float32')\n",
    "    train_temp.append(img)\n",
    "    "
   ]
  },
  {
   "cell_type": "code",
   "execution_count": 13,
   "metadata": {},
   "outputs": [],
   "source": [
    "X_train=np.stack(train_temp)"
   ]
  },
  {
   "cell_type": "code",
   "execution_count": 14,
   "metadata": {},
   "outputs": [
    {
     "name": "stderr",
     "output_type": "stream",
     "text": [
      "C:\\Users\\Gurudeo\\Anaconda2\\lib\\site-packages\\ipykernel_launcher.py:4: DeprecationWarning: `imread` is deprecated!\n",
      "`imread` is deprecated in SciPy 1.0.0, and will be removed in 1.2.0.\n",
      "Use ``imageio.imread`` instead.\n",
      "  after removing the cwd from sys.path.\n"
     ]
    }
   ],
   "source": [
    "temp = []\n",
    "for img_name in test.filename:\n",
    "    image_path = os.path.join(data_dir, 'Data', 'Images', 'data', img_name)\n",
    "    img = imread(image_path, flatten=True)\n",
    "    img = img.astype('float32')\n",
    "    temp.append(img)\n",
    "    "
   ]
  },
  {
   "cell_type": "code",
   "execution_count": 15,
   "metadata": {},
   "outputs": [],
   "source": [
    "X_test=np.stack(train_temp)"
   ]
  },
  {
   "cell_type": "code",
   "execution_count": 16,
   "metadata": {},
   "outputs": [],
   "source": [
    "X_train /= 255.0\n",
    "X_train = X_train.reshape(-1, 784).astype('float32')"
   ]
  },
  {
   "cell_type": "code",
   "execution_count": 17,
   "metadata": {},
   "outputs": [],
   "source": [
    "X_test /= 255.0\n",
    "X_test = X_test.reshape(-1, 784).astype('float32')"
   ]
  },
  {
   "cell_type": "code",
   "execution_count": 18,
   "metadata": {},
   "outputs": [],
   "source": [
    "y_train=keras.utils.np_utils.to_categorical(train.label.values)"
   ]
  },
  {
   "cell_type": "code",
   "execution_count": 19,
   "metadata": {},
   "outputs": [],
   "source": [
    "y_test=keras.utils.np_utils.to_categorical(train.label.values)"
   ]
  },
  {
   "cell_type": "code",
   "execution_count": 20,
   "metadata": {},
   "outputs": [],
   "source": [
    "inputs = 784\n",
    "hidden1_neurons=50\n",
    "hidden2_neurons=50\n",
    "hidden3_neurons=50\n",
    "hidden4_neurons=50\n",
    "output_Units=10\n",
    "epochs = 25\n",
    "batch_size = 128"
   ]
  },
  {
   "cell_type": "code",
   "execution_count": 21,
   "metadata": {},
   "outputs": [
    {
     "name": "stderr",
     "output_type": "stream",
     "text": [
      "C:\\Users\\Gurudeo\\Anaconda2\\lib\\site-packages\\ipykernel_launcher.py:2: UserWarning: Update your `Dense` call to the Keras 2 API: `Dense(input_dim=784, activation=\"relu\", units=50)`\n",
      "  \n",
      "C:\\Users\\Gurudeo\\Anaconda2\\lib\\site-packages\\ipykernel_launcher.py:4: UserWarning: Update your `Dense` call to the Keras 2 API: `Dense(input_dim=50, activation=\"relu\", units=50)`\n",
      "  after removing the cwd from sys.path.\n",
      "C:\\Users\\Gurudeo\\Anaconda2\\lib\\site-packages\\ipykernel_launcher.py:6: UserWarning: Update your `Dense` call to the Keras 2 API: `Dense(input_dim=50, activation=\"relu\", units=50)`\n",
      "  \n",
      "C:\\Users\\Gurudeo\\Anaconda2\\lib\\site-packages\\ipykernel_launcher.py:8: UserWarning: Update your `Dense` call to the Keras 2 API: `Dense(input_dim=50, activation=\"relu\", units=50)`\n",
      "  \n",
      "C:\\Users\\Gurudeo\\Anaconda2\\lib\\site-packages\\ipykernel_launcher.py:10: UserWarning: Update your `Dense` call to the Keras 2 API: `Dense(input_dim=50, activation=\"softmax\", units=10)`\n",
      "  # Remove the CWD from sys.path while we load stuff.\n"
     ]
    }
   ],
   "source": [
    "model = Sequential([\n",
    "Dense(input_dim=inputs,output_dim=hidden1_neurons,activation='relu'),\n",
    "Dropout(0.2),\n",
    "Dense(input_dim=hidden1_neurons,output_dim=hidden2_neurons,activation='relu'),\n",
    "Dropout(0.2),\n",
    "Dense(input_dim=hidden2_neurons,output_dim=hidden3_neurons,activation='relu'),\n",
    "Dropout(0.2),\n",
    "Dense(input_dim=hidden3_neurons,output_dim=hidden4_neurons,activation='relu'),\n",
    "Dropout(0.2),\n",
    "Dense(input_dim=hidden4_neurons,output_dim=output_Units, activation='softmax'),\n",
    " ])"
   ]
  },
  {
   "cell_type": "code",
   "execution_count": 22,
   "metadata": {},
   "outputs": [],
   "source": [
    "model.compile(loss='categorical_crossentropy', optimizer='adam', metrics=['accuracy'])\n"
   ]
  },
  {
   "cell_type": "code",
   "execution_count": 23,
   "metadata": {},
   "outputs": [
    {
     "name": "stdout",
     "output_type": "stream",
     "text": [
      "Train on 39180 samples, validate on 39180 samples\n",
      "Epoch 1/25\n",
      "39180/39180 [==============================] - 8s 215us/step - loss: 0.9338 - acc: 0.6925 - val_loss: 0.2805 - val_acc: 0.9207\n",
      "Epoch 2/25\n",
      "39180/39180 [==============================] - 7s 184us/step - loss: 0.4058 - acc: 0.8880 - val_loss: 0.2070 - val_acc: 0.9413\n",
      "Epoch 3/25\n",
      "39180/39180 [==============================] - 8s 195us/step - loss: 0.3189 - acc: 0.9108 - val_loss: 0.1572 - val_acc: 0.9550\n",
      "Epoch 4/25\n",
      "39180/39180 [==============================] - 7s 175us/step - loss: 0.2762 - acc: 0.9231 - val_loss: 0.1409 - val_acc: 0.9596\n",
      "Epoch 5/25\n",
      "39180/39180 [==============================] - 5s 130us/step - loss: 0.2469 - acc: 0.9325 - val_loss: 0.1187 - val_acc: 0.9650\n",
      "Epoch 6/25\n",
      "39180/39180 [==============================] - 5s 117us/step - loss: 0.2200 - acc: 0.9390 - val_loss: 0.1114 - val_acc: 0.9671\n",
      "Epoch 7/25\n",
      "39180/39180 [==============================] - 5s 127us/step - loss: 0.2058 - acc: 0.9424 - val_loss: 0.0995 - val_acc: 0.9704\n",
      "Epoch 8/25\n",
      "39180/39180 [==============================] - 7s 187us/step - loss: 0.1991 - acc: 0.9452 - val_loss: 0.0891 - val_acc: 0.9742\n",
      "Epoch 9/25\n",
      "39180/39180 [==============================] - 7s 188us/step - loss: 0.1887 - acc: 0.9474 - val_loss: 0.0804 - val_acc: 0.9769\n",
      "Epoch 10/25\n",
      "39180/39180 [==============================] - 7s 189us/step - loss: 0.1796 - acc: 0.9496 - val_loss: 0.0816 - val_acc: 0.9751\n",
      "Epoch 11/25\n",
      "39180/39180 [==============================] - 8s 193us/step - loss: 0.1722 - acc: 0.9520 - val_loss: 0.0696 - val_acc: 0.9798\n",
      "Epoch 12/25\n",
      "39180/39180 [==============================] - 8s 198us/step - loss: 0.1614 - acc: 0.9546 - val_loss: 0.0685 - val_acc: 0.9796\n",
      "Epoch 13/25\n",
      "39180/39180 [==============================] - 6s 155us/step - loss: 0.1574 - acc: 0.9556 - val_loss: 0.0686 - val_acc: 0.9791\n",
      "Epoch 14/25\n",
      "39180/39180 [==============================] - 6s 147us/step - loss: 0.1496 - acc: 0.9572 - val_loss: 0.0605 - val_acc: 0.9823\n",
      "Epoch 15/25\n",
      "39180/39180 [==============================] - 6s 147us/step - loss: 0.1458 - acc: 0.9586 - val_loss: 0.0586 - val_acc: 0.9824\n",
      "Epoch 16/25\n",
      "39180/39180 [==============================] - 6s 148us/step - loss: 0.1434 - acc: 0.9597 - val_loss: 0.0558 - val_acc: 0.9832\n",
      "Epoch 17/25\n",
      "39180/39180 [==============================] - 6s 148us/step - loss: 0.1352 - acc: 0.9622 - val_loss: 0.0530 - val_acc: 0.9849\n",
      "Epoch 18/25\n",
      "39180/39180 [==============================] - 6s 149us/step - loss: 0.1358 - acc: 0.9625 - val_loss: 0.0518 - val_acc: 0.9843\n",
      "Epoch 19/25\n",
      "39180/39180 [==============================] - 6s 150us/step - loss: 0.1339 - acc: 0.9618 - val_loss: 0.0506 - val_acc: 0.9847\n",
      "Epoch 20/25\n",
      "39180/39180 [==============================] - 6s 147us/step - loss: 0.1310 - acc: 0.9628 - val_loss: 0.0488 - val_acc: 0.9856\n",
      "Epoch 21/25\n",
      "39180/39180 [==============================] - 6s 147us/step - loss: 0.1259 - acc: 0.9641 - val_loss: 0.0449 - val_acc: 0.9867\n",
      "Epoch 22/25\n",
      "39180/39180 [==============================] - 6s 147us/step - loss: 0.1225 - acc: 0.9661 - val_loss: 0.0430 - val_acc: 0.9873\n",
      "Epoch 23/25\n",
      "39180/39180 [==============================] - 6s 149us/step - loss: 0.1217 - acc: 0.9646 - val_loss: 0.0420 - val_acc: 0.9879\n",
      "Epoch 24/25\n",
      "39180/39180 [==============================] - 6s 149us/step - loss: 0.1197 - acc: 0.9658 - val_loss: 0.0420 - val_acc: 0.9869\n",
      "Epoch 25/25\n",
      "39180/39180 [==============================] - 6s 150us/step - loss: 0.1187 - acc: 0.9657 - val_loss: 0.0390 - val_acc: 0.9884\n"
     ]
    }
   ],
   "source": [
    "gmodel = model.fit(X_train, y_train, epochs=25, batch_size=batch_size, validation_data=(X_test, y_test))"
   ]
  },
  {
   "cell_type": "code",
   "execution_count": 24,
   "metadata": {},
   "outputs": [
    {
     "data": {
      "image/png": "[encoded data removed]",
      "text/plain": [
       "<matplotlib.figure.Figure at 0x3a9aecffd0>"
      ]
     },
     "metadata": {},
     "output_type": "display_data"
    }
   ],
   "source": [
    "plt.plot(gmodel.history['acc'])\n",
    "plt.plot(gmodel.history['val_acc'])\n",
    "plt.title('model accuracy')\n",
    "plt.ylabel('accuracy')\n",
    "plt.xlabel('epoch')\n",
    "plt.legend(['train', 'test'], loc='upper left')\n",
    "plt.show()"
   ]
  },
  {
   "cell_type": "code",
   "execution_count": 25,
   "metadata": {},
   "outputs": [
    {
     "data": {
      "image/png": "[encoded data removed]",
      "text/plain": [
       "<matplotlib.figure.Figure at 0x3a9ae98ba8>"
      ]
     },
     "metadata": {},
     "output_type": "display_data"
    }
   ],
   "source": [
    "plt.plot(gmodel.history['loss'])\n",
    "plt.plot(gmodel.history['val_loss'])\n",
    "plt.title('model loss')\n",
    "plt.ylabel('loss')\n",
    "plt.xlabel('epoch')\n",
    "plt.legend(['train', 'test'], loc='upper left')\n",
    "plt.show()"
   ]
  },
  {
   "cell_type": "code",
   "execution_count": null,
   "metadata": {},
   "outputs": [],
   "source": []
  }
 ],
 "metadata": {
  "kernelspec": {
   "display_name": "Python 3",
   "language": "python",
   "name": "python3"
  },
  "language_info": {
   "codemirror_mode": {
    "name": "ipython",
    "version": 3
   },
   "file_extension": ".py",
   "mimetype": "text/x-python",
   "name": "python",
   "nbconvert_exporter": "python",
   "pygments_lexer": "ipython3",
   "version": "3.6.4"
  }
 },
 "nbformat": 4,
 "nbformat_minor": 2
}
